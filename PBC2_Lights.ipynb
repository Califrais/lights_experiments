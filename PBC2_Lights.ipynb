{
 "cells": [
  {
   "cell_type": "markdown",
   "metadata": {},
   "source": [
    "# Lights model with PBC2 dataset"
   ]
  },
  {
   "cell_type": "code",
   "execution_count": 1,
   "metadata": {},
   "outputs": [],
   "source": [
    "# Library setup\n",
    "%reset -f\n",
    "%matplotlib inline\n",
    "import os\n",
    "os.environ['R_HOME'] = \"/Library/Frameworks/R.framework/Versions/4.0/Resources\"\n",
    "import warnings\n",
    "warnings.filterwarnings('ignore')\n",
    "import numpy as np\n",
    "import pandas as pd\n",
    "import matplotlib.pyplot as plt\n",
    "from lifelines import KaplanMeierFitter\n",
    "from tick.plot import plot_point_process\n",
    "from lights.simulation import SimuJointLongitudinalSurvival\n",
    "from lights.base.utils import heatmap, annotate_heatmap, gompertz_pdf, \\\n",
    "                              gompertz_survival, visualize_vect_learning\n",
    "from sklearn.model_selection import ShuffleSplit\n",
    "from sklearn.preprocessing import LabelEncoder\n",
    "from lifelines.utils import concordance_index as c_index_score\n",
    "from IPython.display import Markdown, display\n",
    "from scipy.stats import beta\n",
    "from matplotlib import rc\n",
    "rc('text', usetex=True)\n",
    "from lights.inference import QNMCEM\n",
    "\n",
    "def printmd(string):\n",
    "    display(Markdown(string))"
   ]
  },
  {
   "cell_type": "code",
   "execution_count": 2,
   "metadata": {},
   "outputs": [],
   "source": [
    "import rpy2.robjects as robjects\n",
    "import rpy2.robjects as robjects\n",
    "from rpy2.robjects import Formula, Environment\n",
    "from rpy2.robjects.vectors import IntVector, FloatVector, StrVector\n",
    "from rpy2.robjects.lib import grid\n",
    "from rpy2.robjects.packages import importr, data\n",
    "import rpy2.robjects.packages as rpackages\n",
    "import warnings\n",
    "base = importr('base')\n",
    "utils = importr('utils')\n",
    "utils.chooseCRANmirror(ind=1)\n",
    "packnames = ('ggplot2', 'tidyverse', 'gridExtra', 'mice')\n",
    "names_to_install = [x for x in packnames if not rpackages.isinstalled(x)]\n",
    "if len(names_to_install) > 0:\n",
    "    utils.install_packages(StrVector(names_to_install))\n",
    "%load_ext rpy2.ipython"
   ]
  },
  {
   "cell_type": "code",
   "execution_count": 3,
   "metadata": {},
   "outputs": [
    {
     "name": "stderr",
     "output_type": "stream",
     "text": [
      "R[write to console]: Le chargement a nécessité le package : nlme\n",
      "\n",
      "R[write to console]: Le chargement a nécessité le package : survival\n",
      "\n",
      "R[write to console]: Le chargement a nécessité le package : doParallel\n",
      "\n",
      "R[write to console]: Le chargement a nécessité le package : foreach\n",
      "\n",
      "R[write to console]: Le chargement a nécessité le package : iterators\n",
      "\n",
      "R[write to console]: Le chargement a nécessité le package : parallel\n",
      "\n",
      "R[write to console]: Le chargement a nécessité le package : rstan\n",
      "\n",
      "R[write to console]: Le chargement a nécessité le package : StanHeaders\n",
      "\n",
      "R[write to console]: Le chargement a nécessité le package : ggplot2\n",
      "\n",
      "R[write to console]: rstan (Version 2.21.2, GitRev: 2e1f913d3ca3)\n",
      "\n",
      "R[write to console]: For execution on a local, multicore CPU with excess RAM we recommend calling\n",
      "options(mc.cores = parallel::detectCores()).\n",
      "To avoid recompilation of unchanged Stan programs, we recommend calling\n",
      "rstan_options(auto_write = TRUE)\n",
      "\n"
     ]
    }
   ],
   "source": [
    "%%R\n",
    "library(\"JMbayes\")\n",
    "data(pbc2, package = \"JMbayes\")\n",
    "colnames_pbc2 <- names(pbc2)"
   ]
  },
  {
   "cell_type": "code",
   "execution_count": 10,
   "metadata": {},
   "outputs": [],
   "source": [
    "# dataset setup\n",
    "pbc2 = robjects.globalenv['pbc2']\n",
    "colnames_pbc2 = robjects.globalenv['colnames_pbc2']\n",
    "pbc2 = pd.DataFrame(pbc2, index = colnames_pbc2).T\n",
    "n_samples = pbc2[\"id\"].drop_duplicates().shape[0]\n",
    "long_features_list = [\"serBilir\", \"albumin\", \"SGOT\"]\n",
    "n_long_features = len(long_features_list)"
   ]
  },
  {
   "cell_type": "code",
   "execution_count": 11,
   "metadata": {},
   "outputs": [],
   "source": [
    "# data preprocessing\n",
    "# survival data\n",
    "survival_data = pbc2[[\"id\", \"years\", \"status2\", \"drug\", \"age\", \"sex\"]].drop_duplicates()\n",
    "X = survival_data[[\"drug\", \"age\", \"sex\"]]\n",
    "labelencoder = LabelEncoder()\n",
    "X[\"drug\"] = labelencoder.fit_transform(X[\"drug\"])\n",
    "X[\"sex\"] = labelencoder.fit_transform(X[\"sex\"])\n",
    "X = X.values\n",
    "T = survival_data[[\"years\"]].values.flatten()\n",
    "delta = survival_data[[\"status2\"]].values.flatten()\n",
    "\n",
    "# longitunal data\n",
    "Y_ = pbc2[[\"id\", \"year\", \"serBilir\", \"albumin\", \"SGOT\"]]\n",
    "Y = pd.DataFrame(columns=long_features_list)\n",
    "for i in range(n_samples):\n",
    "    y_i = []\n",
    "    for l in range(n_long_features):\n",
    "        Y_il = Y_[[\"year\", long_features_list[l]]][Y_[\"id\"]==i+1]\n",
    "        y_i += [pd.Series(Y_il[long_features_list[l]].values, index=Y_il[\"year\"].values)]\n",
    "    Y.loc[i] = y_i"
   ]
  },
  {
   "cell_type": "code",
   "execution_count": null,
   "metadata": {},
   "outputs": [
    {
     "name": "stdout",
     "output_type": "stream",
     "text": [
      "Launching the solver QNMCEM...\n",
      "Launching the solver MLMM...\n",
      "Launching the solver ULMM...\n"
     ]
    },
    {
     "name": "stderr",
     "output_type": "stream",
     "text": [
      "/Users/acsi/Working/lights/.env/lib/python3.6/site-packages/statsmodels/regression/mixed_linear_model.py:2149: ConvergenceWarning: The MLE may be on the boundary of the parameter space.\n",
      "  warnings.warn(msg, ConvergenceWarning)\n"
     ]
    },
    {
     "name": "stdout",
     "output_type": "stream",
     "text": [
      "Done solving using ULMM in 2.15e+00 seconds\n",
      " n_iter  |   obj    | rel_obj \n",
      "       0 |  19009.1 |      inf\n",
      "       1 |  18977.3 | 1.68e-03\n",
      "       2 |  19015.8 | 2.03e-03\n",
      "       3 |    19006 | 5.14e-04\n",
      "       4 |  19001.3 | 2.50e-04\n",
      "       5 |  18999.7 | 8.27e-05\n",
      "       6 |  19000.1 | 2.30e-05\n",
      "       7 |  19001.9 | 9.50e-05\n",
      "       8 |  19004.7 | 1.46e-04\n",
      "       9 |  19008.2 | 1.85e-04\n",
      "      10 |  19012.3 | 2.14e-04\n",
      "Done solving using MLMM in 3.85e+00 seconds\n",
      " n_iter  |   obj    | rel_obj \n",
      "       0 |  64.0245 |      inf\n",
      "       1 |  60.0704 | 6.18e-02\n",
      "       2 |      nan |      nan\n",
      "       3 |      nan |      nan\n"
     ]
    }
   ],
   "source": [
    "## Choose parameters ##\n",
    "tol = 1e-6            # tolerance for the convergence stopping criterion \n",
    "eta = 0.3             # parameter controlling the trade-off between l1 \n",
    "                      # and l2 regularization in the elasticNet\n",
    "gamma_chosen = '1se'  # way to select l_elasticNet_chosen: '1se' or 'min'\n",
    "warm_start = True     # at each L-BGFS-B iteration, reset beta to 0 or take \n",
    "                      # the previous value \n",
    "grid_size = 30        # grid size for the cross validation procedure\n",
    "metric = 'C-index'    # cross-validation metric: 'log_lik' or 'C-index'\n",
    "\n",
    "# declare learner here\n",
    "fixed_effect_time_order = 1\n",
    "qnmcem = QNMCEM(fixed_effect_time_order=fixed_effect_time_order, max_iter=10, initialize=True, print_every=1,\n",
    "               compute_obj=True)\n",
    "# qnmcem.fit(X_train, Y_train, T_train, delta_train)\n",
    "qnmcem.fit(X, Y, T, delta)\n",
    "\n",
    "# Visualize learning\n",
    "visualize_vect_learning(qnmcem, \"obj\")\n",
    "\n",
    "## Cross-validation ##\n",
    "\n",
    "## Run selected model with l_elasticNet_chosen ##\n",
    "\n",
    "# run final fit here"
   ]
  },
  {
   "cell_type": "code",
   "execution_count": null,
   "metadata": {},
   "outputs": [],
   "source": []
  }
 ],
 "metadata": {
  "kernelspec": {
   "display_name": ".env",
   "language": "python",
   "name": ".env"
  },
  "language_info": {
   "codemirror_mode": {
    "name": "ipython",
    "version": 3
   },
   "file_extension": ".py",
   "mimetype": "text/x-python",
   "name": "python",
   "nbconvert_exporter": "python",
   "pygments_lexer": "ipython3",
   "version": "3.6.8"
  }
 },
 "nbformat": 4,
 "nbformat_minor": 4
}
