{
 "cells": [
  {
   "cell_type": "markdown",
   "metadata": {},
   "source": [
    "# Lights model with simulated dataset"
   ]
  },
  {
   "cell_type": "markdown",
   "metadata": {},
   "source": [
    "1 Library\n",
    "=================="
   ]
  },
  {
   "cell_type": "code",
   "execution_count": 1,
   "metadata": {},
   "outputs": [],
   "source": [
    "# Library setup\n",
    "%reset -f\n",
    "%matplotlib inline\n",
    "import os\n",
    "os.environ['R_HOME'] = \"/Library/Frameworks/R.framework/Versions/4.0/Resources\"\n",
    "import warnings\n",
    "warnings.filterwarnings('ignore')\n",
    "import pandas as pd\n",
    "from sklearn.preprocessing import LabelEncoder\n",
    "from lifelines.utils import concordance_index as c_index_score\n",
    "from lights.inference import prox_QNMCEM\n",
    "from lights.base.utils import visualize_vect_learning, plot_history\n",
    "import numpy as np\n",
    "from sklearn.preprocessing import StandardScaler\n",
    "from lifelines import KaplanMeierFitter\n",
    "import matplotlib.pyplot as plt\n",
    "import seaborn as sns\n",
    "from lifelines.utils import concordance_index as c_index_score\n",
    "from prettytable import PrettyTable\n",
    "from time import time\n",
    "from lights.competing_methods.all_model import load_data, extract_lights_feat, extract_R_feat\n",
    "from matplotlib import rc\n",
    "rc('text', usetex=True)\n",
    "%matplotlib inline\n",
    "\n",
    "def printmd(string):\n",
    "    display(Markdown(string))\n",
    "    \n",
    "import rpy2.robjects as robjects\n",
    "import warnings\n",
    "%load_ext rpy2.ipython"
   ]
  },
  {
   "cell_type": "markdown",
   "metadata": {},
   "source": [
    "2 Simulated data\n",
    "=================="
   ]
  },
  {
   "cell_type": "code",
   "execution_count": 2,
   "metadata": {},
   "outputs": [
    {
     "name": "stdout",
     "output_type": "stream",
     "text": [
      "-----------------------------------------------------------\n",
      "Launching simulation using SimuJointLongitudinalSurvival...\n",
      "Done simulating using SimuJointLongitudinalSurvival in 4.87e-01 seconds.\n"
     ]
    }
   ],
   "source": [
    "t = PrettyTable(['Algos', 'C_index', 'time'])\n",
    "test_size = .2\n",
    "simu = True\n",
    "data, data_lights, time_dep_feat, time_indep_feat = load_data(simu)\n",
    "id_list = data_lights[\"id\"]\n",
    "nb_test_sample = int(test_size * len(id_list))\n",
    "id_test = np.random.choice(id_list, size=nb_test_sample, replace=False)\n",
    "data_lights_train = data_lights[data_lights.id.isin(id_test)]\n",
    "data_lights_test = data_lights[data_lights.id.isin(id_test)]\n",
    "X_lights_train, Y_lights_train, T_train, delta_train = \\\n",
    "    extract_lights_feat(data_lights_train, time_indep_feat, time_dep_feat)\n",
    "X_lights_test, Y_lights_test, T_test, delta_test = \\\n",
    "    extract_lights_feat(data_lights_test, time_indep_feat, time_dep_feat)\n",
    "\n",
    "data_train = data[data.id.isin(id_test)]\n",
    "data_test = data[data.id.isin(id_test)]\n",
    "data_R_train, T_R_train, delta_R_train = extract_R_feat(data_train)\n",
    "data_R_test, T_R_test, delta_R_test = extract_R_feat(data_test)"
   ]
  },
  {
   "cell_type": "markdown",
   "metadata": {},
   "source": [
    "3 Competing models\n",
    "==================\n",
    "\n",
    "3.1 Penalized Cox model with time-independent features.\n",
    "-------------------------------------------------------\n",
    "\n",
    "The first model we consider as a baseline is the well known Cox PH model\n",
    "with time-independent features. In this model introduced in\n",
    "{Cox1972JRSS}, a parameter vector $\\beta$ is estimated by minimizing the\n",
    "partial log-likelihood given by \n",
    "\n",
    "$$\n",
    "\\ell_n^{\\text{cox}}(\\beta) = n^{-1} \\sum_{i=1}^n \\delta_i \\big(\n",
    "x_i^\\top \\beta - \\log \\sum_{i' : t_{i'} \\geq t_i}\n",
    "\\text{exp}(x_{i'}^\\top \\beta) \\big).\n",
    "$$\n",
    "\n",
    "We use respectively the **R** packages *survival* and *glmnet*\n",
    "{simon2011regularization} for the partial log-likelihood and the\n",
    "minimization of the following quantity\n",
    "\n",
    "$$\n",
    "- \\ell_n^{\\text{cox}}(\\beta) + \\xi \\big( (1-\\eta)||\\beta||_1\n",
    "+ \\frac{\\eta}{2} ||\\beta||_2^2 \\big),\n",
    "$$\n",
    "\n",
    "where $\\xi$ is chosen by the a 10-fold cross-validation procedure, for a given $\\eta \\in [0, 1]$. Ties are handled\n",
    "via the Breslow approximation of the partial likelihood . We also choose to include basic time-independent features extracted from longitudinal processes, that is values of longitudinal processes at time $t_{max}$ for each time-dependant feature."
   ]
  },
  {
   "cell_type": "code",
   "execution_count": 3,
   "metadata": {},
   "outputs": [
    {
     "name": "stderr",
     "output_type": "stream",
     "text": [
      "R[write to console]: Le chargement a nécessité le package : survival\n",
      "\n",
      "R[write to console]: Le chargement a nécessité le package : parallel\n",
      "\n",
      "R[write to console]: Le chargement a nécessité le package : Matrix\n",
      "\n",
      "R[write to console]: Loaded glmnet 4.1-1\n",
      "\n"
     ]
    },
    {
     "name": "stdout",
     "output_type": "stream",
     "text": [
      "Be patient, hlme is running ... \n",
      "The program took 0.06 seconds \n",
      "Be patient, hlme is running ... \n",
      "The program took 0.06 seconds \n",
      "Be patient, hlme is running ... \n",
      "The program took 0.06 seconds \n",
      "Be patient, hlme is running ... \n",
      "The program took 0.07 seconds \n",
      "Be patient, hlme is running ... \n",
      "The program took 0.06 seconds \n",
      "Be patient, hlme is running ... \n",
      "The program took 0.06 seconds \n",
      "Be patient, hlme is running ... \n",
      "The program took 0.05 seconds \n",
      "Be patient, hlme is running ... \n",
      "The program took 0.06 seconds \n",
      "Be patient, hlme is running ... \n",
      "The program took 0.08 seconds \n",
      "Be patient, hlme is running ... \n",
      "The program took 0.06 seconds \n"
     ]
    }
   ],
   "source": [
    "# The penalized Cox model.\n",
    "robjects.r.source(os.getcwd() + \"/lights/competing_methods/CoxNet.R\")\n",
    "X_R_train = robjects.r[\"Cox_get_long_feat\"](data_R_train, time_dep_feat,\n",
    "                                          time_indep_feat)\n",
    "X_R_test = robjects.r[\"Cox_get_long_feat\"](data_R_test, time_dep_feat,\n",
    "                                         time_indep_feat)\n",
    "best_lambda = robjects.r[\"Cox_cross_val\"](X_R_train, T_R_train, delta_R_train)\n",
    "start = time()\n",
    "trained_CoxPH = robjects.r[\"Cox_fit\"](X_R_train, T_R_train,\n",
    "                                      delta_R_train, best_lambda)\n",
    "Cox_pred = robjects.r[\"Cox_score\"](trained_CoxPH, X_R_test)\n",
    "Cox_marker = np.array(Cox_pred[:])\n",
    "Cox_c_index = c_index_score(T_test, Cox_marker, delta_test)\n",
    "Cox_c_index = max(Cox_c_index, 1 - Cox_c_index)\n",
    "Cox_exe_time = time() - start"
   ]
  },
  {
   "cell_type": "markdown",
   "metadata": {},
   "source": [
    "3.2 Multivariate joint latent class model.\n",
    "------------------------------------------"
   ]
  },
  {
   "cell_type": "markdown",
   "metadata": {},
   "source": [
    "Among joint modeling approaches, a multivariate version of JLCMs is considered. Several longitudinal markers and time-to-event data are jointly fitted assuming that that the behavior of each response is determined by belonging to a latent homogeneous subpopulation. Contrary to the lights model, there are no shared associations between the\n",
    "longitudinal models and the survival model. Given the group membership, each submodel are assumed to be independent. Therefore, the predictive marker is \n",
    "\n",
    "$$\n",
    "\\hat{\\mathcal{R}}_{ik}^{(lcmm)} = \\frac{\\pi_{k}(\\hat \\theta)\n",
    "\\hat f(t^{max}_i \\| G_i=k ; \\hat \\theta)\\hat f(y_i | G_i=k ;\n",
    "\\hat \\theta)}{\\sum_{k=0}^{K-1} \\pi_{k}(\\hat \\theta) \\hat\n",
    "f(t^{max}_i \\| G_i=k ; \\hat \\theta)\\hat f(y_i \\| G_i=k ; \\hat\n",
    "\\theta)}, \n",
    "$$\n",
    "\n",
    "where each quantities are already defined\n",
    "assuming only latent class approach. The multivariate JLCM is\n",
    "implemented by {proust2017lcmm} in the **R** package *lcmm*."
   ]
  },
  {
   "cell_type": "code",
   "execution_count": 4,
   "metadata": {},
   "outputs": [
    {
     "name": "stdout",
     "output_type": "stream",
     "text": [
      "Be patient, multlcmm is running ... \n",
      "The program took 0.04 seconds \n",
      "The program took 534.84 seconds \n",
      "The program took 0.06 seconds \n"
     ]
    }
   ],
   "source": [
    "# Multivariate joint latent class model.\n",
    "start = time()\n",
    "robjects.r.source(os.getcwd() + \"/lights/competing_methods/MJLCMM.R\")\n",
    "trained_long_model, trained_mjlcmm = robjects.r[\"MJLCMM_fit\"](data_R_train,\n",
    "                                     robjects.StrVector(time_dep_feat),\n",
    "                                     robjects.StrVector(time_indep_feat),\n",
    "                                     alpha=2)\n",
    "MJLCMM_pred = robjects.r[\"MJLCMM_score\"](trained_long_model,\n",
    "                                         trained_mjlcmm,\n",
    "                                         time_indep_feat, data_R_test)\n",
    "MJLCMM_marker = np.array(MJLCMM_pred.rx2('pprob')[2])\n",
    "MJLCMM_c_index = c_index_score(T_test, MJLCMM_marker, delta_test)\n",
    "MJLCMM_c_index = max(MJLCMM_c_index, 1 - MJLCMM_c_index)\n",
    "MJLCMM_exe_time = time() - start"
   ]
  },
  {
   "cell_type": "markdown",
   "metadata": {},
   "source": [
    "3.3 Multivariate shared random effect model\n",
    "-------------------------------------------"
   ]
  },
  {
   "cell_type": "markdown",
   "metadata": {},
   "source": [
    "In shared random effect model approach, we considered multivariate joint models for multiple longitudinal outcomes and an event time. Several **R** package exist: *JMbayes*, *rstanarm* and *joineRML* for instance. For reasons of computational cost, flexibility and visibility, we use the *JMbayes* package {2017\\_JMbayes}. It allows the estimation of the *lights* model without penalty and assuming that the population is homogeneous (i.e. without assuming latent classes). For a new subject $i$, the predictive marker associated with this model is the dynamic prediction of the conditional survival at time $t+s$ given the suject has survived up to time $t$ and his longitudinal measurements until time $t$. The probability is defined by: \n",
    "\n",
    "$$\n",
    "\\Pr\\left(T_i^\\star>t+s\\vert T_i^\\star>t,\n",
    "\\mathcal{Y}_{i}(t),\\mathcal{D}_n; {\\theta}\\right)\n",
    "$$\n",
    "\n",
    "where \n",
    "$\\mathcal{Y}_{i}(t)=\\{\\mathcal{Y}_{i}^1(t),\\ldots,\\mathcal{Y}_{i}^L(t)\\}$ with $\\mathcal{Y}_{i}^l(t_{ij}^l)=\\{\n",
    "y_{i}^{l}(t_{ij}^l);0\\leq t_{ij}^l\\leq t, j=1,\\ldots,n_i^l\\}$, $\\mathcal{D}_n$ is all data from which\n",
    "the model is estimated, $\\theta$ the vector of parameters. The probability is approximated using Monte Carlo technique {2017\\_JMbayes}."
   ]
  },
  {
   "cell_type": "code",
   "execution_count": 5,
   "metadata": {},
   "outputs": [
    {
     "name": "stderr",
     "output_type": "stream",
     "text": [
      "R[write to console]: Le chargement a nécessité le package : nlme\n",
      "\n",
      "R[write to console]: \n",
      "Attachement du package : ‘nlme’\n",
      "\n",
      "\n",
      "R[write to console]: The following objects are masked from ‘package:lcmm’:\n",
      "\n",
      "    fixef, ranef\n",
      "\n",
      "\n",
      "R[write to console]: Le chargement a nécessité le package : doParallel\n",
      "\n",
      "R[write to console]: Le chargement a nécessité le package : foreach\n",
      "\n",
      "R[write to console]: Le chargement a nécessité le package : iterators\n",
      "\n",
      "R[write to console]: Le chargement a nécessité le package : rstan\n",
      "\n",
      "R[write to console]: Le chargement a nécessité le package : StanHeaders\n",
      "\n",
      "R[write to console]: Le chargement a nécessité le package : ggplot2\n",
      "\n",
      "R[write to console]: rstan (Version 2.21.2, GitRev: 2e1f913d3ca3)\n",
      "\n",
      "R[write to console]: For execution on a local, multicore CPU with excess RAM we recommend calling\n",
      "options(mc.cores = parallel::detectCores()).\n",
      "To avoid recompilation of unchanged Stan programs, we recommend calling\n",
      "rstan_options(auto_write = TRUE)\n",
      "\n"
     ]
    }
   ],
   "source": [
    "# Multivariate shared random effect model.\n",
    "start = time()\n",
    "robjects.r.source(os.getcwd() + \"/lights/competing_methods/JMBayes.R\")\n",
    "trained_JMBayes = robjects.r[\"fit\"](data_R_train,\n",
    "                                    robjects.StrVector(time_dep_feat),\n",
    "                                    robjects.StrVector(time_indep_feat))\n",
    "# JMBayes_pred = robjects.r[\"score\"](trained_JMBayes, data_R_test, t_max=4)\n",
    "# JMBayes_marker = np.array(JMBayes_pred.rx2('full.results')[0])\n",
    "JMBayes_marker = np.array(robjects.r[\"score\"](trained_JMBayes, data_R_test, t_max=4))\n",
    "JMBayes_c_index = c_index_score(T_test, JMBayes_marker, delta_test)\n",
    "JMBayes_c_index = max(JMBayes_c_index, 1 - JMBayes_c_index)\n",
    "JMBayes_exe_time = time() - start"
   ]
  },
  {
   "cell_type": "markdown",
   "metadata": {},
   "source": [
    "4 Lights\n",
    "=================="
   ]
  },
  {
   "cell_type": "code",
   "execution_count": 6,
   "metadata": {},
   "outputs": [
    {
     "name": "stdout",
     "output_type": "stream",
     "text": [
      "Launching the solver prox_QNMCEM...\n",
      "Launching the solver MLMM...\n",
      "Launching the solver ULMM...\n",
      "Done solving using ULMM in 1.86e-01 seconds\n"
     ]
    },
    {
     "name": "stderr",
     "output_type": "stream",
     "text": [
      "/Users/acsi/Working/lights/.env385/lib/python3.8/site-packages/statsmodels/regression/mixed_linear_model.py:2261: ConvergenceWarning: The Hessian matrix at the estimated parameter values is not positive definite.\n",
      "  warnings.warn(msg, ConvergenceWarning)\n",
      "/Users/acsi/Working/lights/.env385/lib/python3.8/site-packages/statsmodels/regression/mixed_linear_model.py:2261: ConvergenceWarning: The Hessian matrix at the estimated parameter values is not positive definite.\n",
      "  warnings.warn(msg, ConvergenceWarning)\n",
      "/Users/acsi/Working/lights/.env385/lib/python3.8/site-packages/statsmodels/regression/mixed_linear_model.py:2261: ConvergenceWarning: The Hessian matrix at the estimated parameter values is not positive definite.\n",
      "  warnings.warn(msg, ConvergenceWarning)\n",
      "/Users/acsi/Working/lights/.env385/lib/python3.8/site-packages/statsmodels/regression/mixed_linear_model.py:2261: ConvergenceWarning: The Hessian matrix at the estimated parameter values is not positive definite.\n",
      "  warnings.warn(msg, ConvergenceWarning)\n",
      "/Users/acsi/Working/lights/.env385/lib/python3.8/site-packages/statsmodels/regression/mixed_linear_model.py:2261: ConvergenceWarning: The Hessian matrix at the estimated parameter values is not positive definite.\n",
      "  warnings.warn(msg, ConvergenceWarning)\n"
     ]
    },
    {
     "name": "stdout",
     "output_type": "stream",
     "text": [
      " n_iter  |   obj    | rel_obj \n",
      "       0 |  1274.06 |      inf\n",
      "       1 |  984.925 | 2.27e-01\n",
      "       2 |  974.025 | 1.11e-02\n",
      "       3 |   969.54 | 4.60e-03\n",
      "       4 |  967.113 | 2.50e-03\n",
      "       5 |  965.605 | 1.56e-03\n",
      "Done solving using MLMM in 2.26e-01 seconds\n",
      " n_iter  |   obj    | rel_obj \n",
      "       0 |   201.49 |      inf\n",
      "       1 |  150.459 | 2.53e-01\n",
      "       2 |  107.243 | 2.87e-01\n",
      "       3 |  107.352 | 1.01e-03\n",
      "       4 |  105.917 | 1.34e-02\n",
      "       5 |  106.837 | 8.68e-03\n",
      "Done solving using prox_QNMCEM in 1.42e+01 seconds\n"
     ]
    }
   ],
   "source": [
    "# lights\n",
    "start = time()\n",
    "fixed_effect_time_order = 1\n",
    "learner = prox_QNMCEM(fixed_effect_time_order=fixed_effect_time_order,\n",
    "                      max_iter=5, initialize=True, print_every=1,\n",
    "                      compute_obj=True, simu=False,\n",
    "                      asso_functions=[\"lp\", \"re\"],\n",
    "                      l_pen_SGL=0.02, eta_sp_gp_l1=.9, l_pen_EN=0.02)\n",
    "learner.fit(X_lights_train, Y_lights_train, T_train, delta_train)\n",
    "lights_marker = learner.predict_marker(X_lights_test, Y_lights_test)\n",
    "lights_c_index = c_index_score(T_test, lights_marker, delta_test)\n",
    "lights_c_index = max(lights_c_index, 1 - lights_c_index)\n",
    "lights_exe_time = time() - start"
   ]
  },
  {
   "cell_type": "markdown",
   "metadata": {},
   "source": [
    "5 Performance\n",
    "=================="
   ]
  },
  {
   "cell_type": "code",
   "execution_count": 7,
   "metadata": {},
   "outputs": [
    {
     "name": "stdout",
     "output_type": "stream",
     "text": [
      "+---------+----------+---------+\n",
      "|  Algos  | C-Index  |   time  |\n",
      "+---------+----------+---------+\n",
      "|   Cox   |    1     |  0.004  |\n",
      "|  MJLCMM | 0.543478 | 534.994 |\n",
      "| JMBayes | 0.573913 |  64.647 |\n",
      "|  lights | 0.804348 |  15.527 |\n",
      "+---------+----------+---------+\n"
     ]
    }
   ],
   "source": [
    "t = PrettyTable(['Algos', 'C-Index', 'time'])\n",
    "t.add_row([\"Cox\", \"%g\" % Cox_c_index, \"%.3f\" % Cox_exe_time])\n",
    "t.add_row([\"MJLCMM\", \"%g\" % MJLCMM_c_index, \"%.3f\" % MJLCMM_exe_time])\n",
    "t.add_row([\"JMBayes\", \"%g\" % JMBayes_c_index, \"%.3f\" % JMBayes_exe_time])\n",
    "t.add_row([\"lights\", \"%g\" % lights_c_index, \"%.3f\" % lights_exe_time])\n",
    "print(t)"
   ]
  },
  {
   "cell_type": "code",
   "execution_count": null,
   "metadata": {},
   "outputs": [],
   "source": []
  }
 ],
 "metadata": {
  "kernelspec": {
   "display_name": ".env385",
   "language": "python",
   "name": ".env385"
  },
  "language_info": {
   "codemirror_mode": {
    "name": "ipython",
    "version": 3
   },
   "file_extension": ".py",
   "mimetype": "text/x-python",
   "name": "python",
   "nbconvert_exporter": "python",
   "pygments_lexer": "ipython3",
   "version": "3.8.5"
  }
 },
 "nbformat": 4,
 "nbformat_minor": 4
}
