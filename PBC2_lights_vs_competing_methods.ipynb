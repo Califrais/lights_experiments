{
 "cells": [
  {
   "cell_type": "markdown",
   "metadata": {},
   "source": [
    "# Lights model with PBC2 dataset"
   ]
  },
  {
   "cell_type": "code",
   "execution_count": 1,
   "metadata": {},
   "outputs": [],
   "source": [
    "# Library setup\n",
    "%reset -f\n",
    "%matplotlib inline\n",
    "import os\n",
    "os.environ['R_HOME'] = \"/Library/Frameworks/R.framework/Versions/4.0/Resources\"\n",
    "import warnings\n",
    "warnings.filterwarnings('ignore')\n",
    "import pandas as pd\n",
    "from sklearn.preprocessing import LabelEncoder\n",
    "from lifelines.utils import concordance_index as c_index_score\n",
    "from lights.inference import prox_QNMCEM\n",
    "from lights.base.utils import visualize_vect_learning, plot_history\n",
    "import numpy as np\n",
    "from sklearn.preprocessing import StandardScaler\n",
    "from lifelines import KaplanMeierFitter\n",
    "import matplotlib.pyplot as plt\n",
    "import seaborn as sns\n",
    "from lifelines.utils import concordance_index as c_index_score\n",
    "from prettytable import PrettyTable\n",
    "from time import time\n",
    "from lights.competing_methods.all_model import load_data, extract_lights_feat, extract_R_feat\n",
    "from matplotlib import rc\n",
    "rc('text', usetex=True)\n",
    "%matplotlib inline\n",
    "\n",
    "def printmd(string):\n",
    "    display(Markdown(string))\n",
    "    \n",
    "import rpy2.robjects as robjects\n",
    "import warnings\n",
    "%load_ext rpy2.ipython"
   ]
  },
  {
   "cell_type": "markdown",
   "metadata": {},
   "source": [
    "## PBC_Seq"
   ]
  },
  {
   "cell_type": "code",
   "execution_count": 2,
   "metadata": {},
   "outputs": [
    {
     "name": "stderr",
     "output_type": "stream",
     "text": [
      "R[write to console]: Le chargement a nécessité le package : nlme\n",
      "\n",
      "R[write to console]: Le chargement a nécessité le package : survival\n",
      "\n",
      "R[write to console]: Le chargement a nécessité le package : doParallel\n",
      "\n",
      "R[write to console]: Le chargement a nécessité le package : foreach\n",
      "\n",
      "R[write to console]: Le chargement a nécessité le package : iterators\n",
      "\n",
      "R[write to console]: Le chargement a nécessité le package : parallel\n",
      "\n",
      "R[write to console]: Le chargement a nécessité le package : rstan\n",
      "\n",
      "R[write to console]: Le chargement a nécessité le package : StanHeaders\n",
      "\n",
      "R[write to console]: Le chargement a nécessité le package : ggplot2\n",
      "\n",
      "R[write to console]: rstan (Version 2.21.2, GitRev: 2e1f913d3ca3)\n",
      "\n",
      "R[write to console]: For execution on a local, multicore CPU with excess RAM we recommend calling\n",
      "options(mc.cores = parallel::detectCores()).\n",
      "To avoid recompilation of unchanged Stan programs, we recommend calling\n",
      "rstan_options(auto_write = TRUE)\n",
      "\n"
     ]
    }
   ],
   "source": [
    "t = PrettyTable(['Algos', 'C_index', 'time'])\n",
    "test_size = .2\n",
    "simu = False\n",
    "data, data_lights, time_dep_feat, time_indep_feat = load_data(simu)\n",
    "id_list = data_lights[\"id\"]\n",
    "nb_test_sample = int(test_size * len(id_list))\n",
    "id_test = np.random.choice(id_list, size=nb_test_sample, replace=False)\n",
    "data_lights_train = data_lights[data_lights.id.isin(id_test)]\n",
    "data_lights_test = data_lights[data_lights.id.isin(id_test)]\n",
    "X_lights_train, Y_lights_train, T_train, delta_train = \\\n",
    "    extract_lights_feat(data_lights_train, time_indep_feat, time_dep_feat)\n",
    "X_lights_test, Y_lights_test, T_test, delta_test = \\\n",
    "    extract_lights_feat(data_lights_test, time_indep_feat, time_dep_feat)\n",
    "\n",
    "data_train = data[data.id.isin(id_test)]\n",
    "data_test = data[data.id.isin(id_test)]\n",
    "data_R_train, T_R_train, delta_R_train = extract_R_feat(data_train)\n",
    "data_R_test, T_R_test, delta_R_test = extract_R_feat(data_test)"
   ]
  },
  {
   "cell_type": "code",
   "execution_count": 4,
   "metadata": {},
   "outputs": [
    {
     "name": "stdout",
     "output_type": "stream",
     "text": [
      "Be patient, hlme is running ... \n",
      "The program took 0.05 seconds \n",
      "Be patient, hlme is running ... \n",
      "The program took 0.04 seconds \n",
      "Be patient, hlme is running ... \n",
      "The program took 0.06 seconds \n",
      "Be patient, hlme is running ... \n",
      "The program took 0.04 seconds \n",
      "Be patient, hlme is running ... \n",
      "The program took 0.04 seconds \n",
      "Be patient, hlme is running ... \n",
      "The program took 0.06 seconds \n"
     ]
    }
   ],
   "source": [
    "# The penalized time-dependent Cox model.\n",
    "robjects.r.source(os.getcwd() + \"/lights/competing_methods/CoxNet.R\")\n",
    "X_R_train = robjects.r[\"Cox_get_long_feat\"](data_R_train, time_dep_feat)\n",
    "X_R_test = robjects.r[\"Cox_get_long_feat\"](data_R_test, time_dep_feat)\n",
    "best_lambda = robjects.r[\"Cox_cross_val\"](X_R_train, T_R_train, delta_R_train)\n",
    "start = time()\n",
    "trained_CoxPH = robjects.r[\"Cox_fit\"](X_R_train, T_R_train,\n",
    "                                      delta_R_train, best_lambda)\n",
    "Cox_pred = robjects.r[\"Cox_score\"](trained_CoxPH, X_R_test)\n",
    "Cox_marker = np.array(Cox_pred[:])\n",
    "Cox_c_index = c_index_score(T_test, Cox_marker, delta_test)\n",
    "Cox_c_index = max(Cox_c_index, 1 - Cox_c_index)\n",
    "Cox_exe_time = time() - start"
   ]
  },
  {
   "cell_type": "code",
   "execution_count": 5,
   "metadata": {},
   "outputs": [
    {
     "name": "stdout",
     "output_type": "stream",
     "text": [
      "Be patient, multlcmm is running ... \n",
      "The program took 0.03 seconds \n",
      "The program took 70.39 seconds \n",
      "The program took 0.04 seconds \n"
     ]
    }
   ],
   "source": [
    "# Multivariate joint latent class model.\n",
    "start = time()\n",
    "robjects.r.source(os.getcwd() + \"/lights/competing_methods/MJLCMM.R\")\n",
    "trained_long_model, trained_mjlcmm = robjects.r[\"MJLCMM_fit\"](data_R_train,\n",
    "                                     robjects.StrVector(time_dep_feat),\n",
    "                                     robjects.StrVector(time_indep_feat),\n",
    "                                     alpha=2)\n",
    "MJLCMM_pred = robjects.r[\"MJLCMM_score\"](trained_long_model,\n",
    "                                         trained_mjlcmm,\n",
    "                                         time_indep_feat, data_R_test)\n",
    "MJLCMM_marker = np.array(MJLCMM_pred.rx2('pprob')[2])\n",
    "MJLCMM_c_index = c_index_score(T_test, MJLCMM_marker, delta_test)\n",
    "MJLCMM_c_index = max(MJLCMM_c_index, 1 - MJLCMM_c_index)\n",
    "MJLCMM_exe_time = time() - start"
   ]
  },
  {
   "cell_type": "code",
   "execution_count": 7,
   "metadata": {},
   "outputs": [],
   "source": [
    "# Multivariate shared random effect model.\n",
    "start = time()\n",
    "robjects.r.source(os.getcwd() + \"/lights/competing_methods/JMBayes.R\")\n",
    "trained_JMBayes = robjects.r[\"fit\"](data_R_train,\n",
    "                                    robjects.StrVector(time_dep_feat),\n",
    "                                    robjects.StrVector(time_indep_feat))\n",
    "# JMBayes_pred = robjects.r[\"score\"](trained_JMBayes, data_R_test, t_max=4)\n",
    "# JMBayes_marker = np.array(JMBayes_pred.rx2('full.results')[0])\n",
    "JMBayes_marker = np.array(robjects.r[\"score\"](trained_JMBayes, data_R_test))\n",
    "JMBayes_c_index = c_index_score(T_test, JMBayes_marker, delta_test)\n",
    "JMBayes_c_index = max(JMBayes_c_index, 1 - JMBayes_c_index)\n",
    "JMBayes_exe_time = time() - start"
   ]
  },
  {
   "cell_type": "code",
   "execution_count": 8,
   "metadata": {},
   "outputs": [
    {
     "name": "stdout",
     "output_type": "stream",
     "text": [
      "Launching the solver prox_QNMCEM...\n",
      "Launching the solver MLMM...\n",
      "Launching the solver ULMM...\n"
     ]
    },
    {
     "name": "stderr",
     "output_type": "stream",
     "text": [
      "/Users/acsi/Working/lights/.env385/lib/python3.8/site-packages/statsmodels/regression/mixed_linear_model.py:2261: ConvergenceWarning: The Hessian matrix at the estimated parameter values is not positive definite.\n",
      "  warnings.warn(msg, ConvergenceWarning)\n",
      "/Users/acsi/Working/lights/.env385/lib/python3.8/site-packages/statsmodels/regression/mixed_linear_model.py:2237: ConvergenceWarning: The MLE may be on the boundary of the parameter space.\n",
      "  warnings.warn(msg, ConvergenceWarning)\n"
     ]
    },
    {
     "name": "stdout",
     "output_type": "stream",
     "text": [
      "Done solving using ULMM in 3.29e-01 seconds\n",
      " n_iter  |   obj    | rel_obj \n",
      "       0 |  442.158 |      inf\n",
      "       1 |  217.621 | 5.08e-01\n",
      "       2 |  192.756 | 1.14e-01\n",
      "       3 |  181.428 | 5.88e-02\n",
      "       4 |  175.532 | 3.25e-02\n",
      "       5 |  172.118 | 1.95e-02\n",
      "Done solving using MLMM in 4.00e-01 seconds\n",
      " n_iter  |   obj    | rel_obj \n",
      "       0 |  40.3414 |      inf\n",
      "       1 |  13.0348 | 6.77e-01\n",
      "       2 |  9.65047 | 2.60e-01\n",
      "       3 |  7.46459 | 2.27e-01\n",
      "       4 |  6.94215 | 7.00e-02\n",
      "       5 |  6.48506 | 6.58e-02\n",
      "Done solving using prox_QNMCEM in 1.77e+01 seconds\n"
     ]
    }
   ],
   "source": [
    "# lights\n",
    "start = time()\n",
    "fixed_effect_time_order = 1\n",
    "learner = prox_QNMCEM(fixed_effect_time_order=fixed_effect_time_order,\n",
    "                      max_iter=5, initialize=True, print_every=1,\n",
    "                      compute_obj=True, simu=False,\n",
    "                      asso_functions=[\"lp\", \"re\"],\n",
    "                      l_pen_SGL=0.02, eta_sp_gp_l1=.9, l_pen_EN=0.02)\n",
    "learner.fit(X_lights_train, Y_lights_train, T_train, delta_train)\n",
    "lights_marker = learner.predict_marker(X_lights_test, Y_lights_test)\n",
    "lights_c_index = c_index_score(T_test, lights_marker, delta_test)\n",
    "lights_c_index = max(lights_c_index, 1 - lights_c_index)\n",
    "lights_exe_time = time() - start"
   ]
  },
  {
   "cell_type": "code",
   "execution_count": 9,
   "metadata": {},
   "outputs": [
    {
     "name": "stdout",
     "output_type": "stream",
     "text": [
      "+---------+----------+---------+\n",
      "|  Algos  | C-Index  |   time  |\n",
      "+---------+----------+---------+\n",
      "|   Cox   | 0.998209 |  0.061  |\n",
      "|  MJLCMM | 0.898836 |  70.518 |\n",
      "| JMBayes | 0.77171  | 111.943 |\n",
      "|  lights | 0.777977 |  19.281 |\n",
      "+---------+----------+---------+\n"
     ]
    }
   ],
   "source": [
    "t = PrettyTable(['Algos', 'C-Index', 'time'])\n",
    "t.add_row([\"Cox\", \"%g\" % Cox_c_index, \"%.3f\" % Cox_exe_time])\n",
    "t.add_row([\"MJLCMM\", \"%g\" % MJLCMM_c_index, \"%.3f\" % MJLCMM_exe_time])\n",
    "t.add_row([\"JMBayes\", \"%g\" % JMBayes_c_index, \"%.3f\" % JMBayes_exe_time])\n",
    "t.add_row([\"lights\", \"%g\" % lights_c_index, \"%.3f\" % lights_exe_time])\n",
    "print(t)"
   ]
  },
  {
   "cell_type": "code",
   "execution_count": null,
   "metadata": {},
   "outputs": [],
   "source": []
  }
 ],
 "metadata": {
  "kernelspec": {
   "display_name": ".env385",
   "language": "python",
   "name": ".env385"
  },
  "language_info": {
   "codemirror_mode": {
    "name": "ipython",
    "version": 3
   },
   "file_extension": ".py",
   "mimetype": "text/x-python",
   "name": "python",
   "nbconvert_exporter": "python",
   "pygments_lexer": "ipython3",
   "version": "3.8.5"
  }
 },
 "nbformat": 4,
 "nbformat_minor": 4
}
